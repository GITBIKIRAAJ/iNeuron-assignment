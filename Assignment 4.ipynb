{
 "cells": [
  {
   "cell_type": "markdown",
   "id": "ce66deb8",
   "metadata": {},
   "source": [
    "# Challenge 1 <red> 29-05-2022"
   ]
  },
  {
   "cell_type": "code",
   "execution_count": 7,
   "id": "a3fd74d0",
   "metadata": {},
   "outputs": [
    {
     "name": "stdout",
     "output_type": "stream",
     "text": [
      "enter your number:9\n",
      "* \n",
      "* * \n",
      "* * * \n",
      "* * * * \n",
      "* * * * * \n",
      "* * * * * * \n",
      "* * * * * * * \n",
      "* * * * * * * * \n",
      "* * * * * * * * * \n"
     ]
    }
   ],
   "source": [
    " #Try to print this by using while loop \n",
    "n=int(input(\"enter your number:\"))\n",
    "i=1\n",
    "while i<=n:\n",
    "    j=1\n",
    "    while j<=i:\n",
    "        print(\"*\", end=\" \")\n",
    "        j=j+1\n",
    "    print()\n",
    "    i=i+1"
   ]
  },
  {
   "cell_type": "code",
   "execution_count": 9,
   "id": "9aade85c",
   "metadata": {},
   "outputs": [
    {
     "name": "stdout",
     "output_type": "stream",
     "text": [
      "enter your number:9\n",
      "* \n",
      "* * \n",
      "* * * \n",
      "* * * * \n",
      "* * * * * \n",
      "* * * * * * \n",
      "* * * * * * * \n",
      "* * * * * * * * \n",
      "* * * * * * * * * \n"
     ]
    }
   ],
   "source": [
    "# same pattern using for loop\n",
    "n=int(input(\"enter your number:\"))\n",
    "for i in range(n):\n",
    "    for j in range(i+1):\n",
    "        print(\"*\", end=\" \")\n",
    "    print()"
   ]
  },
  {
   "cell_type": "code",
   "execution_count": 86,
   "id": "6fe3daa5",
   "metadata": {},
   "outputs": [
    {
     "name": "stdout",
     "output_type": "stream",
     "text": [
      "Enter the number:10\n",
      "B \n",
      "C D \n",
      "D E F \n",
      "E F G H \n",
      "F G H I J \n",
      "G H I J K L \n",
      "H I J K L M N \n",
      "I J K L M N O P \n",
      "J K L M N O P Q R \n",
      "K L M N O P Q R S T \n"
     ]
    }
   ],
   "source": [
    "# Question No. 2-try to print below by using while loop : \n",
    "n= int(input(\"Enter the number:\"))\n",
    "i=1\n",
    "while i<=n:\n",
    "    p=ord(\"A\")+i\n",
    "    j=1\n",
    "    while j<=i:\n",
    "        print(chr(p),end=\" \")\n",
    "        j=j+1\n",
    "        p=p+1\n",
    "    print()\n",
    "    i=i+1"
   ]
  },
  {
   "cell_type": "code",
   "execution_count": 21,
   "id": "22cf5041",
   "metadata": {},
   "outputs": [
    {
     "name": "stdout",
     "output_type": "stream",
     "text": [
      "The numbers which are divisible by 3 from 40 to 400 are:\n",
      "42 45 48 51 54 57 60 63 66 69 72 75 78 81 84 87 90 93 96 99 102 105 108 111 114 117 120 123 126 129 132 135 138 141 144 147 150 153 156 159 162 165 168 171 174 177 180 183 186 189 192 195 198 201 204 207 210 213 216 219 222 225 228 231 234 237 240 243 246 249 252 255 258 261 264 267 270 273 276 279 282 285 288 291 294 297 300 303 306 309 312 315 318 321 324 327 330 333 336 339 342 345 348 351 354 357 360 363 366 369 372 375 378 381 384 387 390 393 396 399 "
     ]
    }
   ],
   "source": [
    "# q3 : Try to print all the number divisible by 3 in between a range of 40 - 400\n",
    "l_limit = 40\n",
    "u_limit = 400\n",
    "d = 3 #divisible by 5\n",
    "print(\"The numbers which are divisible by\", d,\n",
    "      \"from\", l_limit, \"to\", u_limit, \"are:\")\n",
    "for val in range(l_limit, u_limit):\n",
    "    if(val % d == 0):\n",
    "        print(val, end=\" \")"
   ]
  },
  {
   "cell_type": "code",
   "execution_count": 27,
   "id": "5e1d0ed5",
   "metadata": {},
   "outputs": [
    {
     "name": "stdout",
     "output_type": "stream",
     "text": [
      "stringPython is a high-level, interpreted, general-purpose programming language. Its design philosophy emphasizes code readability with the use of significant indentation.[32]  Python is dynamically-typed and garbage-collected. It supports multiple programming paradigms, including structured (particularly procedural), object-oriented and functional programming. It is often described as a \"batteries included\" language due to its comprehensive standard library.[33][34]  Guido van Rossum began working on Python in the late 1980s as a successor to the ABC programming language and first released it in 1991 as Python 0.9.0.[35] Python 2.0 was released in 2000 and introduced new features such as list comprehensions, cycle-detecting garbage collection, reference counting, and Unicode support. Python 3.0, released in 2008, was a major revision that is not completely backward-compatible with earlier versions. Python 2 was discontinued with version 2.7.18 in 2020.[36]  Python consistently ranks as one of the most popular programming languagesc\n",
      "Pyth*n *s * h*gh-l*v*l* *nt*rpr*t*d* g*n*r*l-p*rp*s* pr*gr*mm*ng l*ng**g*. *ts d*s*gn ph*l*s*phy *mph*s*z*s c*d* r**d*b*l*ty w*th th* *s* *f s*gn*f*c*nt *nd*nt*t**n.[32]  Pyth*n *s dyn*m*c*lly-typ*d *nd g*rb*g*-c*ll*ct*d. *t s*pp*rts m*lt*pl* pr*gr*mm*ng p*r*d*gms* *ncl*d*ng str*ct*r*d (p*rt*c*l*rly pr*c*d*r*l)* *bj*ct-*r**nt*d *nd f*nct**n*l pr*gr*mm*ng. *t *s *ft*n d*scr*b*d *s * \"b*tt*r**s *ncl*d*d\" l*ng**g* d** t* *ts c*mpr*h*ns*v* st*nd*rd l*br*ry.[33][34]  G**d* v*n R*ss*m b*g*n w*rk*ng *n Pyth*n *n th* l*t* 1980s *s * s*cc*ss*r t* th* *BC pr*gr*mm*ng l*ng**g* *nd f*rst r*l**s*d *t *n 1991 *s Pyth*n 0.9.0.[35] Pyth*n 2.0 w*s r*l**s*d *n 2000 *nd *ntr*d*c*d n*w f**t*r*s s*ch *s l*st c*mpr*h*ns**ns* cycl*-d*t*ct*ng g*rb*g* c*ll*ct**n* r*f*r*nc* c**nt*ng* *nd *n*c*d* s*pp*rt. Pyth*n 3.0* r*l**s*d *n 2008* w*s * m*j*r r*v*s**n th*t *s n*t c*mpl*t*ly b*ckw*rd-c*mp*t*bl* w*th **rl**r v*rs**ns. Pyth*n 2 w*s d*sc*nt*n**d w*th v*rs**n 2.7.18 *n 2020.[36]  Pyth*n c*ns*st*ntly r*nks *s *n* *f th* m*st p*p*l*r pr*gr*mm*ng l*ng**g*sc"
     ]
    }
   ],
   "source": [
    "#q4 : Try to filter out all the vowels form below text by using while loop : \n",
    "\n",
    "string= input(\"string\")\n",
    "\n",
    "vowels= 'a,e,i,o,u,A,E,I,O,U'\n",
    "for i in string:\n",
    "    if i in vowels:\n",
    "        print(\"*\", end=\"\")\n",
    "    else:\n",
    "        print(i,end=\"\")"
   ]
  },
  {
   "cell_type": "code",
   "execution_count": 42,
   "id": "fce7ef21",
   "metadata": {},
   "outputs": [
    {
     "name": "stdout",
     "output_type": "stream",
     "text": [
      "number1000\n",
      "2 4 6 8 10 12 14 16 18 20 22 24 26 28 30 32 34 36 38 40 42 44 46 48 50 52 54 56 58 60 62 64 66 68 70 72 74 76 78 80 82 84 86 88 90 92 94 96 98 100 102 104 106 108 110 112 114 116 118 120 122 124 126 128 130 132 134 136 138 140 142 144 146 148 150 152 154 156 158 160 162 164 166 168 170 172 174 176 178 180 182 184 186 188 190 192 194 196 198 200 202 204 206 208 210 212 214 216 218 220 222 224 226 228 230 232 234 236 238 240 242 244 246 248 250 252 254 256 258 260 262 264 266 268 270 272 274 276 278 280 282 284 286 288 290 292 294 296 298 300 302 304 306 308 310 312 314 316 318 320 322 324 326 328 330 332 334 336 338 340 342 344 346 348 350 352 354 356 358 360 362 364 366 368 370 372 374 376 378 380 382 384 386 388 390 392 394 396 398 400 402 404 406 408 410 412 414 416 418 420 422 424 426 428 430 432 434 436 438 440 442 444 446 448 450 452 454 456 458 460 462 464 466 468 470 472 474 476 478 480 482 484 486 488 490 492 494 496 498 500 502 504 506 508 510 512 514 516 518 520 522 524 526 528 530 532 534 536 538 540 542 544 546 548 550 552 554 556 558 560 562 564 566 568 570 572 574 576 578 580 582 584 586 588 590 592 594 596 598 600 602 604 606 608 610 612 614 616 618 620 622 624 626 628 630 632 634 636 638 640 642 644 646 648 650 652 654 656 658 660 662 664 666 668 670 672 674 676 678 680 682 684 686 688 690 692 694 696 698 700 702 704 706 708 710 712 714 716 718 720 722 724 726 728 730 732 734 736 738 740 742 744 746 748 750 752 754 756 758 760 762 764 766 768 770 772 774 776 778 780 782 784 786 788 790 792 794 796 798 800 802 804 806 808 810 812 814 816 818 820 822 824 826 828 830 832 834 836 838 840 842 844 846 848 850 852 854 856 858 860 862 864 866 868 870 872 874 876 878 880 882 884 886 888 890 892 894 896 898 900 902 904 906 908 910 912 914 916 918 920 922 924 926 928 930 932 934 936 938 940 942 944 946 948 950 952 954 956 958 960 962 964 966 968 970 972 974 976 978 980 982 984 986 988 990 992 994 996 998 1000 "
     ]
    }
   ],
   "source": [
    "#q5 : Try to generate all the even number between 1- 1000\n",
    "N= int(input(\"number\"))\n",
    "i=2\n",
    "while (i<=N):\n",
    "    print(i,end=\"\")\n",
    "    i=i+2\n",
    "    print(end=\" \")"
   ]
  },
  {
   "cell_type": "code",
   "execution_count": 49,
   "id": "dcc36cea",
   "metadata": {},
   "outputs": [
    {
     "name": "stdout",
     "output_type": "stream",
     "text": [
      "2022-05-30 23:48:38.718539\n",
      "This year is:\n",
      "2022\n",
      "This month is:\n",
      "5\n",
      "Today is:\n",
      "30\n"
     ]
    }
   ],
   "source": [
    "# write a code to get a time of your system \n",
    "import datetime\n",
    "time= datetime.datetime.now()\n",
    "\n",
    "print(time)\n",
    "print(\"This year is:\")\n",
    "print(time.year)\n",
    "print(\"This month is:\")\n",
    "print(time.month)\n",
    "print(\"Today is:\")\n",
    "print(time.day)\n",
    "\n"
   ]
  },
  {
   "cell_type": "code",
   "execution_count": 51,
   "id": "4e7576f9",
   "metadata": {},
   "outputs": [
    {
     "ename": "SMTPAuthenticationError",
     "evalue": "(535, b'5.7.8 Username and Password not accepted. Learn more at\\n5.7.8  https://support.google.com/mail/?p=BadCredentials 2-20020a630602000000b003c14af5061asm8928717pgg.50 - gsmtp')",
     "output_type": "error",
     "traceback": [
      "\u001b[1;31m---------------------------------------------------------------------------\u001b[0m",
      "\u001b[1;31mSMTPAuthenticationError\u001b[0m                   Traceback (most recent call last)",
      "\u001b[1;32m~\\AppData\\Local\\Temp/ipykernel_50344/543513426.py\u001b[0m in \u001b[0;36m<module>\u001b[1;34m\u001b[0m\n\u001b[0;32m      3\u001b[0m \u001b[1;33m\u001b[0m\u001b[0m\n\u001b[0;32m      4\u001b[0m \u001b[0mserver\u001b[0m \u001b[1;33m=\u001b[0m \u001b[0msmtplib\u001b[0m\u001b[1;33m.\u001b[0m\u001b[0mSMTP_SSL\u001b[0m\u001b[1;33m(\u001b[0m\u001b[1;34m'smtp.gmail.com'\u001b[0m\u001b[1;33m,\u001b[0m \u001b[1;36m465\u001b[0m\u001b[1;33m)\u001b[0m\u001b[1;33m\u001b[0m\u001b[1;33m\u001b[0m\u001b[0m\n\u001b[1;32m----> 5\u001b[1;33m \u001b[0mserver\u001b[0m\u001b[1;33m.\u001b[0m\u001b[0mlogin\u001b[0m\u001b[1;33m(\u001b[0m\u001b[1;34m\"raajbiki777@gmail.com\"\u001b[0m\u001b[1;33m,\u001b[0m \u001b[1;34m\"biki777\"\u001b[0m\u001b[1;33m)\u001b[0m\u001b[1;33m\u001b[0m\u001b[1;33m\u001b[0m\u001b[0m\n\u001b[0m\u001b[0;32m      6\u001b[0m server.sendmail(\n\u001b[0;32m      7\u001b[0m   \u001b[1;34m\"raajbiki777@gmail.com\"\u001b[0m\u001b[1;33m,\u001b[0m\u001b[1;33m\u001b[0m\u001b[1;33m\u001b[0m\u001b[0m\n",
      "\u001b[1;32m~\\anaconda3\\lib\\smtplib.py\u001b[0m in \u001b[0;36mlogin\u001b[1;34m(self, user, password, initial_response_ok)\u001b[0m\n\u001b[0;32m    748\u001b[0m \u001b[1;33m\u001b[0m\u001b[0m\n\u001b[0;32m    749\u001b[0m         \u001b[1;31m# We could not login successfully.  Return result of last attempt.\u001b[0m\u001b[1;33m\u001b[0m\u001b[1;33m\u001b[0m\u001b[0m\n\u001b[1;32m--> 750\u001b[1;33m         \u001b[1;32mraise\u001b[0m \u001b[0mlast_exception\u001b[0m\u001b[1;33m\u001b[0m\u001b[1;33m\u001b[0m\u001b[0m\n\u001b[0m\u001b[0;32m    751\u001b[0m \u001b[1;33m\u001b[0m\u001b[0m\n\u001b[0;32m    752\u001b[0m     \u001b[1;32mdef\u001b[0m \u001b[0mstarttls\u001b[0m\u001b[1;33m(\u001b[0m\u001b[0mself\u001b[0m\u001b[1;33m,\u001b[0m \u001b[0mkeyfile\u001b[0m\u001b[1;33m=\u001b[0m\u001b[1;32mNone\u001b[0m\u001b[1;33m,\u001b[0m \u001b[0mcertfile\u001b[0m\u001b[1;33m=\u001b[0m\u001b[1;32mNone\u001b[0m\u001b[1;33m,\u001b[0m \u001b[0mcontext\u001b[0m\u001b[1;33m=\u001b[0m\u001b[1;32mNone\u001b[0m\u001b[1;33m)\u001b[0m\u001b[1;33m:\u001b[0m\u001b[1;33m\u001b[0m\u001b[1;33m\u001b[0m\u001b[0m\n",
      "\u001b[1;32m~\\anaconda3\\lib\\smtplib.py\u001b[0m in \u001b[0;36mlogin\u001b[1;34m(self, user, password, initial_response_ok)\u001b[0m\n\u001b[0;32m    737\u001b[0m             \u001b[0mmethod_name\u001b[0m \u001b[1;33m=\u001b[0m \u001b[1;34m'auth_'\u001b[0m \u001b[1;33m+\u001b[0m \u001b[0mauthmethod\u001b[0m\u001b[1;33m.\u001b[0m\u001b[0mlower\u001b[0m\u001b[1;33m(\u001b[0m\u001b[1;33m)\u001b[0m\u001b[1;33m.\u001b[0m\u001b[0mreplace\u001b[0m\u001b[1;33m(\u001b[0m\u001b[1;34m'-'\u001b[0m\u001b[1;33m,\u001b[0m \u001b[1;34m'_'\u001b[0m\u001b[1;33m)\u001b[0m\u001b[1;33m\u001b[0m\u001b[1;33m\u001b[0m\u001b[0m\n\u001b[0;32m    738\u001b[0m             \u001b[1;32mtry\u001b[0m\u001b[1;33m:\u001b[0m\u001b[1;33m\u001b[0m\u001b[1;33m\u001b[0m\u001b[0m\n\u001b[1;32m--> 739\u001b[1;33m                 (code, resp) = self.auth(\n\u001b[0m\u001b[0;32m    740\u001b[0m                     \u001b[0mauthmethod\u001b[0m\u001b[1;33m,\u001b[0m \u001b[0mgetattr\u001b[0m\u001b[1;33m(\u001b[0m\u001b[0mself\u001b[0m\u001b[1;33m,\u001b[0m \u001b[0mmethod_name\u001b[0m\u001b[1;33m)\u001b[0m\u001b[1;33m,\u001b[0m\u001b[1;33m\u001b[0m\u001b[1;33m\u001b[0m\u001b[0m\n\u001b[0;32m    741\u001b[0m                     initial_response_ok=initial_response_ok)\n",
      "\u001b[1;32m~\\anaconda3\\lib\\smtplib.py\u001b[0m in \u001b[0;36mauth\u001b[1;34m(self, mechanism, authobject, initial_response_ok)\u001b[0m\n\u001b[0;32m    660\u001b[0m         \u001b[1;32mif\u001b[0m \u001b[0mcode\u001b[0m \u001b[1;32min\u001b[0m \u001b[1;33m(\u001b[0m\u001b[1;36m235\u001b[0m\u001b[1;33m,\u001b[0m \u001b[1;36m503\u001b[0m\u001b[1;33m)\u001b[0m\u001b[1;33m:\u001b[0m\u001b[1;33m\u001b[0m\u001b[1;33m\u001b[0m\u001b[0m\n\u001b[0;32m    661\u001b[0m             \u001b[1;32mreturn\u001b[0m \u001b[1;33m(\u001b[0m\u001b[0mcode\u001b[0m\u001b[1;33m,\u001b[0m \u001b[0mresp\u001b[0m\u001b[1;33m)\u001b[0m\u001b[1;33m\u001b[0m\u001b[1;33m\u001b[0m\u001b[0m\n\u001b[1;32m--> 662\u001b[1;33m         \u001b[1;32mraise\u001b[0m \u001b[0mSMTPAuthenticationError\u001b[0m\u001b[1;33m(\u001b[0m\u001b[0mcode\u001b[0m\u001b[1;33m,\u001b[0m \u001b[0mresp\u001b[0m\u001b[1;33m)\u001b[0m\u001b[1;33m\u001b[0m\u001b[1;33m\u001b[0m\u001b[0m\n\u001b[0m\u001b[0;32m    663\u001b[0m \u001b[1;33m\u001b[0m\u001b[0m\n\u001b[0;32m    664\u001b[0m     \u001b[1;32mdef\u001b[0m \u001b[0mauth_cram_md5\u001b[0m\u001b[1;33m(\u001b[0m\u001b[0mself\u001b[0m\u001b[1;33m,\u001b[0m \u001b[0mchallenge\u001b[0m\u001b[1;33m=\u001b[0m\u001b[1;32mNone\u001b[0m\u001b[1;33m)\u001b[0m\u001b[1;33m:\u001b[0m\u001b[1;33m\u001b[0m\u001b[1;33m\u001b[0m\u001b[0m\n",
      "\u001b[1;31mSMTPAuthenticationError\u001b[0m: (535, b'5.7.8 Username and Password not accepted. Learn more at\\n5.7.8  https://support.google.com/mail/?p=BadCredentials 2-20020a630602000000b003c14af5061asm8928717pgg.50 - gsmtp')"
     ]
    }
   ],
   "source": [
    "# Write a code to send a mail to your friend \n",
    "import smtplib\n",
    "\n",
    "server = smtplib.SMTP_SSL('smtp.gmail.com', 465)\n",
    "server.login(\"raajbiki777@gmail.com\", \"password\")\n",
    "server.sendmail(\n",
    "  \"raajbiki777@gmail.com\", \n",
    "  \"solutionmania1@gmail.com\", \n",
    "  \"not able to access the server\")\n",
    "server.quit()"
   ]
  },
  {
   "cell_type": "code",
   "execution_count": null,
   "id": "08dfa539",
   "metadata": {},
   "outputs": [],
   "source": [
    "#write a code to trigger alarm for you at scheduled time\n",
    "import time\n",
    "for i in range(5):\n",
    "    if i==2:\n",
    "        print()  #code not working"
   ]
  },
  {
   "cell_type": "code",
   "execution_count": 1,
   "id": "a574b7c2",
   "metadata": {},
   "outputs": [
    {
     "name": "stdout",
     "output_type": "stream",
     "text": [
      "Ip address of my system is:BikiRaaj\n"
     ]
    }
   ],
   "source": [
    "# q11 : write a code to check ip address of your system\n",
    "import socket\n",
    "hostname=socket.gethostname()\n",
    "ip_addres=socket.gethostbyname(hostname)\n",
    "print(\"Ip address of my system is:\" +hostname)\n"
   ]
  },
  {
   "cell_type": "code",
   "execution_count": null,
   "id": "5f05c16b",
   "metadata": {},
   "outputs": [],
   "source": [
    "#Write a code to check a perticular installation in your system\n",
    "?\n"
   ]
  },
  {
   "cell_type": "code",
   "execution_count": 56,
   "id": "0af0e727",
   "metadata": {},
   "outputs": [
    {
     "ename": "ModuleNotFoundError",
     "evalue": "No module named 'gTTS'",
     "output_type": "error",
     "traceback": [
      "\u001b[1;31m---------------------------------------------------------------------------\u001b[0m",
      "\u001b[1;31mModuleNotFoundError\u001b[0m                       Traceback (most recent call last)",
      "\u001b[1;32m~\\AppData\\Local\\Temp/ipykernel_50344/3061073318.py\u001b[0m in \u001b[0;36m<module>\u001b[1;34m\u001b[0m\n\u001b[1;32m----> 1\u001b[1;33m \u001b[1;32mimport\u001b[0m \u001b[0mgTTS\u001b[0m\u001b[1;33m\u001b[0m\u001b[1;33m\u001b[0m\u001b[0m\n\u001b[0m\u001b[0;32m      2\u001b[0m \u001b[1;32mimport\u001b[0m \u001b[0mos\u001b[0m\u001b[1;33m\u001b[0m\u001b[1;33m\u001b[0m\u001b[0m\n\u001b[0;32m      3\u001b[0m \u001b[1;33m\u001b[0m\u001b[0m\n\u001b[0;32m      4\u001b[0m \u001b[0mText\u001b[0m\u001b[1;33m=\u001b[0m\u001b[1;34m\"I am trying first time from text to speech\"\u001b[0m\u001b[1;33m\u001b[0m\u001b[1;33m\u001b[0m\u001b[0m\n\u001b[0;32m      5\u001b[0m \u001b[0mlanguage\u001b[0m\u001b[1;33m=\u001b[0m \u001b[1;34m'hi'\u001b[0m\u001b[1;33m\u001b[0m\u001b[1;33m\u001b[0m\u001b[0m\n",
      "\u001b[1;31mModuleNotFoundError\u001b[0m: No module named 'gTTS'"
     ]
    }
   ],
   "source": [
    "import gTTS\n",
    "import os\n",
    "\n",
    "Text=\"I am trying first time from text to speech\"\n",
    "language= 'hi'\n",
    "\n",
    "audio= gTTS(text=Text,language='hi',slow=False)\n",
    "\n",
    "audio.save(\"first aduio.mp3\")"
   ]
  },
  {
   "cell_type": "code",
   "execution_count": 24,
   "id": "ede7e4f8",
   "metadata": {},
   "outputs": [],
   "source": [
    "#q14 : you have to write a fun which will take string and return a len of it without using a inbuilt fun len\n",
    "def len():\n",
    "    \n",
    "    str=\"Return length without inbuilt function\"\n",
    "    b=0\n",
    "    for i in str:\n",
    "        \n",
    "        print(b,\":\",a[b],end=\" \")\n",
    "        b=b+1\n",
    "#Hence length is 38."
   ]
  },
  {
   "cell_type": "code",
   "execution_count": 25,
   "id": "76b06e36",
   "metadata": {},
   "outputs": [
    {
     "name": "stdout",
     "output_type": "stream",
     "text": [
      "0 : R 1 : e 2 : t 3 : u 4 : r 5 : n 6 :   7 : l 8 : e 9 : n 10 : g 11 : t 12 : h 13 :   14 : w 15 : i 16 : t 17 : h 18 : o 19 : u 20 : t 21 :   22 : i 23 : n 24 : b 25 : u 26 : i 27 : l 28 : t 29 :   30 : f 31 : u 32 : n 33 : c 34 : t 35 : i 36 : o 37 : n "
     ]
    }
   ],
   "source": [
    "len()"
   ]
  },
  {
   "cell_type": "code",
   "execution_count": 27,
   "id": "f6aaf406",
   "metadata": {},
   "outputs": [
    {
     "name": "stdout",
     "output_type": "stream",
     "text": [
      "0 1\n",
      "1 2\n",
      "2 3\n",
      "3 4\n",
      "4 5\n",
      "5 6\n",
      "6 7\n",
      "7 8\n",
      "8 9\n",
      "9 10\n"
     ]
    }
   ],
   "source": [
    "#q15 :write a fun which will be able to print an index of all premitive element which you will pass \n",
    "def premitive():\n",
    "    \n",
    "    n=10\n",
    "    a=0\n",
    "    while a<n:\n",
    "        print(a,a+1)\n",
    "        a=a+1\n",
    "premitive()"
   ]
  },
  {
   "cell_type": "code",
   "execution_count": 39,
   "id": "ae0433dc",
   "metadata": {},
   "outputs": [],
   "source": [
    "#Write a fun which will take input as a dict and give me out as a list of all the values even in case of 2 level nesting it should work \n",
    "def dtl():\n",
    "    n=n=int(input(\"enter a number of elements in the dict: \"))\n",
    "    my_dict={}\n",
    "    for i in range(n):\n",
    "        key=input(\"enter key:\")\n",
    "        value=input(\"enter value:\")\n",
    "        my_dict.update({key:value})\n",
    "    print(my_dict)\n",
    "    new_list = list(my_dict.items())\n",
    "    return new_list"
   ]
  },
  {
   "cell_type": "code",
   "execution_count": 40,
   "id": "40f294a7",
   "metadata": {},
   "outputs": [
    {
     "name": "stdout",
     "output_type": "stream",
     "text": [
      "enter a number of elements in the dict: 2\n",
      "enter key:Sudhansu\n",
      "enter value:ML\n",
      "enter key:Kris\n",
      "enter value:DL\n",
      "{'Sudhansu': 'ML', 'Kris': 'DL'}\n"
     ]
    },
    {
     "data": {
      "text/plain": [
       "[('Sudhansu', 'ML'), ('Kris', 'DL')]"
      ]
     },
     "execution_count": 40,
     "metadata": {},
     "output_type": "execute_result"
    }
   ],
   "source": [
    "dtl()"
   ]
  },
  {
   "cell_type": "code",
   "execution_count": 79,
   "id": "5ac82480",
   "metadata": {},
   "outputs": [],
   "source": [
    "#q17 : write a function whihc will take multiple list as a input and give me concatnation of all the element as and output\n",
    "def con():\n",
    "    l1=list(input())\n",
    "    l2=list(input())\n",
    "    l2=(l1+l2)\n",
    "    return (l2)"
   ]
  },
  {
   "cell_type": "code",
   "execution_count": 80,
   "id": "c1077382",
   "metadata": {},
   "outputs": [
    {
     "name": "stdout",
     "output_type": "stream",
     "text": [
      "1,2\n",
      "3,4\n"
     ]
    },
    {
     "data": {
      "text/plain": [
       "['1', ',', '2', '3', ',', '4']"
      ]
     },
     "execution_count": 80,
     "metadata": {},
     "output_type": "execute_result"
    }
   ],
   "source": [
    "con()"
   ]
  },
  {
   "cell_type": "code",
   "execution_count": null,
   "id": "3741d040",
   "metadata": {},
   "outputs": [],
   "source": [
    "#q19 : write a function whihc will be able to read a image file and show it to you .\n",
    "from PIL import Image\n",
    "img= Image.open('king.png')\n",
    "\n",
    "Image.show()\n",
    "print(img.format)"
   ]
  },
  {
   "cell_type": "code",
   "execution_count": null,
   "id": "80c802bd",
   "metadata": {},
   "outputs": [],
   "source": []
  }
 ],
 "metadata": {
  "kernelspec": {
   "display_name": "Python 3 (ipykernel)",
   "language": "python",
   "name": "python3"
  },
  "language_info": {
   "codemirror_mode": {
    "name": "ipython",
    "version": 3
   },
   "file_extension": ".py",
   "mimetype": "text/x-python",
   "name": "python",
   "nbconvert_exporter": "python",
   "pygments_lexer": "ipython3",
   "version": "3.9.7"
  }
 },
 "nbformat": 4,
 "nbformat_minor": 5
}
