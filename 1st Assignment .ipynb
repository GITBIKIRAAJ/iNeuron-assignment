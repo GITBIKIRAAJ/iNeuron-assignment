{
 "cells": [
  {
   "cell_type": "code",
   "execution_count": 2,
   "id": "e81b7146",
   "metadata": {},
   "outputs": [],
   "source": [
    "s= \"this is My First Python programming class and i am learNING python string and its function\""
   ]
  },
  {
   "cell_type": "code",
   "execution_count": null,
   "id": "d985c718",
   "metadata": {},
   "outputs": [],
   "source": [
    "#xquestion 1- 'Try to extract data from index one to index 300 with a jump of 3' \n"
   ]
  },
  {
   "cell_type": "code",
   "execution_count": 5,
   "id": "c9054f25",
   "metadata": {},
   "outputs": [
    {
     "data": {
      "text/plain": [
       "'tssyityopgmncsa alrNph rgni ni'"
      ]
     },
     "execution_count": 5,
     "metadata": {},
     "output_type": "execute_result"
    }
   ],
   "source": [
    "s[0:300:3]"
   ]
  },
  {
   "cell_type": "code",
   "execution_count": 6,
   "id": "99b23094",
   "metadata": {},
   "outputs": [
    {
     "data": {
      "text/plain": [
       "'tssyityopgmncsa alrNph rgni ni'"
      ]
     },
     "execution_count": 6,
     "metadata": {},
     "output_type": "execute_result"
    }
   ],
   "source": [
    "s[:300:3]"
   ]
  },
  {
   "cell_type": "code",
   "execution_count": 7,
   "id": "590e12fa",
   "metadata": {},
   "outputs": [
    {
     "data": {
      "text/plain": [
       "'tssyityopgmncsa alrNph rgni ni'"
      ]
     },
     "execution_count": 7,
     "metadata": {},
     "output_type": "execute_result"
    }
   ],
   "source": [
    "s[::3]"
   ]
  },
  {
   "cell_type": "code",
   "execution_count": null,
   "id": "0ad9d512",
   "metadata": {},
   "outputs": [],
   "source": [
    "#Question 2- Try to reverse a string without using reverse function"
   ]
  },
  {
   "cell_type": "code",
   "execution_count": 8,
   "id": "8ebaae00",
   "metadata": {},
   "outputs": [
    {
     "data": {
      "text/plain": [
       "'noitcnuf sti dna gnirts nohtyp GNINrael ma i dna ssalc gnimmargorp nohtyP tsriF yM si siht'"
      ]
     },
     "execution_count": 8,
     "metadata": {},
     "output_type": "execute_result"
    }
   ],
   "source": [
    "s[::-1]"
   ]
  },
  {
   "cell_type": "code",
   "execution_count": null,
   "id": "ebb9b27f",
   "metadata": {},
   "outputs": [],
   "source": [
    "#question-3 Try to split a string after conversion of entire string in uppercase "
   ]
  },
  {
   "cell_type": "code",
   "execution_count": 31,
   "id": "0e6d6131",
   "metadata": {},
   "outputs": [],
   "source": [
    "t=s.upper()"
   ]
  },
  {
   "cell_type": "code",
   "execution_count": 32,
   "id": "426c597c",
   "metadata": {},
   "outputs": [
    {
     "data": {
      "text/plain": [
       "['THIS',\n",
       " 'IS',\n",
       " 'MY',\n",
       " 'FIRST',\n",
       " 'PYTHON',\n",
       " 'PROGRAMMING',\n",
       " 'CLASS',\n",
       " 'AND',\n",
       " 'I',\n",
       " 'AM',\n",
       " 'LEARNING',\n",
       " 'PYTHON',\n",
       " 'STRING',\n",
       " 'AND',\n",
       " 'ITS',\n",
       " 'FUNCTION']"
      ]
     },
     "execution_count": 32,
     "metadata": {},
     "output_type": "execute_result"
    }
   ],
   "source": [
    "t.split()"
   ]
  },
  {
   "cell_type": "code",
   "execution_count": null,
   "id": "e0c7637b",
   "metadata": {},
   "outputs": [],
   "source": [
    "#Question-4 'try to convert the whole string into lower case'"
   ]
  },
  {
   "cell_type": "code",
   "execution_count": 33,
   "id": "cf07e853",
   "metadata": {},
   "outputs": [
    {
     "data": {
      "text/plain": [
       "'this is my first python programming class and i am learning python string and its function'"
      ]
     },
     "execution_count": 33,
     "metadata": {},
     "output_type": "execute_result"
    }
   ],
   "source": [
    "s.lower()"
   ]
  },
  {
   "cell_type": "code",
   "execution_count": null,
   "id": "102349ef",
   "metadata": {},
   "outputs": [],
   "source": [
    "#Q 6- Try to capitalize the whole string"
   ]
  },
  {
   "cell_type": "code",
   "execution_count": 34,
   "id": "f15315d6",
   "metadata": {},
   "outputs": [
    {
     "data": {
      "text/plain": [
       "'This is my first python programming class and i am learning python string and its function'"
      ]
     },
     "execution_count": 34,
     "metadata": {},
     "output_type": "execute_result"
    }
   ],
   "source": [
    "s.capitalize()"
   ]
  },
  {
   "cell_type": "code",
   "execution_count": 35,
   "id": "be985179",
   "metadata": {},
   "outputs": [
    {
     "data": {
      "text/plain": [
       "'This Is My First Python Programming Class And I Am Learning Python String And Its Function'"
      ]
     },
     "execution_count": 35,
     "metadata": {},
     "output_type": "execute_result"
    }
   ],
   "source": [
    "s.title()"
   ]
  },
  {
   "cell_type": "code",
   "execution_count": null,
   "id": "31128bda",
   "metadata": {},
   "outputs": [],
   "source": [
    "#Q 7-  Write a diference between isalnum() and isalpha()"
   ]
  },
  {
   "cell_type": "code",
   "execution_count": 36,
   "id": "82257035",
   "metadata": {},
   "outputs": [
    {
     "data": {
      "text/plain": [
       "'is function is use for (true or false), where isalnum is defined all the characters in the string are either alphabet or numeric'"
      ]
     },
     "execution_count": 36,
     "metadata": {},
     "output_type": "execute_result"
    }
   ],
   "source": [
    "\"\"\"is function is use for (true or false), where isalnum is defined all the characters in the string are either alphabet or numeric, isalpha is only alphabet should be present in that string\n",
    "\"\"\""
   ]
  },
  {
   "cell_type": "code",
   "execution_count": null,
   "id": "6f239f02",
   "metadata": {},
   "outputs": [],
   "source": [
    "Q 8- Try to give an example of expand tab"
   ]
  },
  {
   "cell_type": "code",
   "execution_count": 51,
   "id": "7b4a0564",
   "metadata": {},
   "outputs": [],
   "source": [
    "B= \"I am a sucess\\tful data\\tscientist\"\n"
   ]
  },
  {
   "cell_type": "code",
   "execution_count": 48,
   "id": "b1a2037b",
   "metadata": {},
   "outputs": [
    {
     "data": {
      "text/plain": [
       "'I am a sucess ful data scientist'"
      ]
     },
     "execution_count": 48,
     "metadata": {},
     "output_type": "execute_result"
    }
   ],
   "source": [
    "B.expandtabs(1)"
   ]
  },
  {
   "cell_type": "code",
   "execution_count": 52,
   "id": "20c515fd",
   "metadata": {},
   "outputs": [
    {
     "data": {
      "text/plain": [
       "'I am a sucess  ful data scientist'"
      ]
     },
     "execution_count": 52,
     "metadata": {},
     "output_type": "execute_result"
    }
   ],
   "source": [
    "B.expandtabs(3)"
   ]
  },
  {
   "cell_type": "code",
   "execution_count": null,
   "id": "0cab4cae",
   "metadata": {},
   "outputs": [],
   "source": [
    "#Q 8- Give an example of strip , lstrip and rstrip"
   ]
  },
  {
   "cell_type": "code",
   "execution_count": 53,
   "id": "aeafa254",
   "metadata": {},
   "outputs": [],
   "source": [
    "k= \"  This is Biranchi Narayan  \""
   ]
  },
  {
   "cell_type": "code",
   "execution_count": 54,
   "id": "22978a94",
   "metadata": {},
   "outputs": [
    {
     "data": {
      "text/plain": [
       "'This is Biranchi Narayan'"
      ]
     },
     "execution_count": 54,
     "metadata": {},
     "output_type": "execute_result"
    }
   ],
   "source": [
    "k.strip()"
   ]
  },
  {
   "cell_type": "code",
   "execution_count": 55,
   "id": "b078a125",
   "metadata": {},
   "outputs": [
    {
     "data": {
      "text/plain": [
       "'This is Biranchi Narayan'"
      ]
     },
     "execution_count": 55,
     "metadata": {},
     "output_type": "execute_result"
    }
   ],
   "source": [
    "L=\"  This is Biranchi Narayan\"\n",
    "L.lstrip()"
   ]
  },
  {
   "cell_type": "code",
   "execution_count": 56,
   "id": "9e0c91ac",
   "metadata": {},
   "outputs": [
    {
     "data": {
      "text/plain": [
       "'This is Biranchi Narayan'"
      ]
     },
     "execution_count": 56,
     "metadata": {},
     "output_type": "execute_result"
    }
   ],
   "source": [
    "M=\"This is Biranchi Narayan  \"\n",
    "M.rstrip()"
   ]
  },
  {
   "cell_type": "code",
   "execution_count": 57,
   "id": "02549a0e",
   "metadata": {},
   "outputs": [],
   "source": [
    "#Q 9- Replace a string charecter by another charector by taking your own example"
   ]
  },
  {
   "cell_type": "code",
   "execution_count": 58,
   "id": "71bb3e5b",
   "metadata": {},
   "outputs": [],
   "source": [
    "L= \"This is Biranchi Narayan\""
   ]
  },
  {
   "cell_type": "code",
   "execution_count": 59,
   "id": "8593f37b",
   "metadata": {},
   "outputs": [],
   "source": [
    "#I will change \"Biranchi\" as 'Raaj'"
   ]
  },
  {
   "cell_type": "code",
   "execution_count": 64,
   "id": "86fcb4ac",
   "metadata": {},
   "outputs": [
    {
     "data": {
      "text/plain": [
       "'This is Raaj Narayan'"
      ]
     },
     "execution_count": 64,
     "metadata": {},
     "output_type": "execute_result"
    }
   ],
   "source": [
    "L.replace('Biranchi','Raaj')"
   ]
  },
  {
   "cell_type": "code",
   "execution_count": 65,
   "id": "fd5549ec",
   "metadata": {},
   "outputs": [
    {
     "data": {
      "text/plain": [
       "'This is Raaj Narayan'"
      ]
     },
     "execution_count": 65,
     "metadata": {},
     "output_type": "execute_result"
    }
   ],
   "source": [
    "L.replace(\"Biranchi\",\"Raaj\")"
   ]
  },
  {
   "cell_type": "code",
   "execution_count": 66,
   "id": "ba058ec5",
   "metadata": {},
   "outputs": [],
   "source": [
    "#Q 10- Try  to give a defination of string center function with and exmple\n",
    "\n",
    "Defination- String center is used to give padding(left or right)"
   ]
  },
  {
   "cell_type": "code",
   "execution_count": 76,
   "id": "af18bae6",
   "metadata": {},
   "outputs": [
    {
     "name": "stdout",
     "output_type": "stream",
     "text": [
      "       I am a student of iNeuron        \n"
     ]
    }
   ],
   "source": [
    "M= \"I am a student of iNeuron\"\n",
    "print(M.center(40))"
   ]
  },
  {
   "cell_type": "code",
   "execution_count": 78,
   "id": "6db3f4dc",
   "metadata": {},
   "outputs": [],
   "source": [
    "#40 characters from both the side is adjusted with the string \"M'"
   ]
  },
  {
   "cell_type": "code",
   "execution_count": null,
   "id": "7f7545fd",
   "metadata": {},
   "outputs": [],
   "source": [
    "#Q 11- Write your own definition of compiler and interpretor without copy paste form internet in your own language\n",
    "\n",
    "Defination of compiler- It is algorithm made to convert complex programming language into simpler one.\n",
    "Interpreter- It is something/function which can read, understand and execute piece of code "
   ]
  },
  {
   "cell_type": "code",
   "execution_count": null,
   "id": "1d6d02bf",
   "metadata": {},
   "outputs": [],
   "source": [
    "#Q 12- Python is a interpreted of compiled language give a clear ans with your understanding \n",
    "\n",
    "Answer- Founder or developer of Python is compliled all the functions, formulas so it is easy to interprete all the functions/algorithims easily.\n",
    "Example- we no need to write a fuction to define a certian code, like if you write p=10, python easily understand it is a interger(already complied by someone), but in java or c you need to define the code for particular value."
   ]
  },
  {
   "cell_type": "code",
   "execution_count": null,
   "id": "4708b978",
   "metadata": {},
   "outputs": [],
   "source": [
    "#Q 13- Try to write a usecase of python with your understanding\n",
    "\n",
    "Python used in case like( web Backend development, Game making, data analysing, data modeling,application making,robotics, Automation)"
   ]
  }
 ],
 "metadata": {
  "kernelspec": {
   "display_name": "Python 3 (ipykernel)",
   "language": "python",
   "name": "python3"
  },
  "language_info": {
   "codemirror_mode": {
    "name": "ipython",
    "version": 3
   },
   "file_extension": ".py",
   "mimetype": "text/x-python",
   "name": "python",
   "nbconvert_exporter": "python",
   "pygments_lexer": "ipython3",
   "version": "3.9.7"
  }
 },
 "nbformat": 4,
 "nbformat_minor": 5
}
